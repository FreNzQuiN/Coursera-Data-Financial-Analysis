{
 "cells": [
  {
   "cell_type": "code",
   "execution_count": null,
   "metadata": {},
   "outputs": [],
   "source": [
    "import pandas as pd\n",
    "import google\n"
   ]
  },
  {
   "cell_type": "code",
   "execution_count": null,
   "metadata": {},
   "outputs": [],
   "source": [
    "#We import the stock data of Facebook into Jupyter Notebook. The CSV file is located in the folder called \"Data\" in your Workspace\n",
    "#We then name the DataFrame name as 'fb'\n",
    "fb = pd.DataFrame.from_csv('../data/facebook.csv')"
   ]
  },
  {
   "cell_type": "code",
   "execution_count": null,
   "metadata": {},
   "outputs": [
    {
     "name": "stdout",
     "output_type": "stream",
     "text": [
      "Okay, here's a sequence of Stable Diffusion prompts designed to create diverse anime-style background settings, suitable for a variety of scenes. I've tried to make them relatively modular so you can mix and match elements:\n",
      "\n",
      "**I. Starting Point (Basic Scene):**\n",
      "\n",
      "1.  **Prompt:** `anime background, peaceful rural village, sunlit afternoon, rolling hills, thatched-roof houses, clear sky, distant mountains, vibrant colors`\n",
      "\n",
      "**II. Building on the Base - Varying the Time of Day/Atmosphere:**\n",
      "\n",
      "2.  **Prompt:** `anime background, bustling city street at night, neon signs, wet asphalt, reflections, crowds of people, modern buildings, soft focus, cinematic lighting`\n",
      "\n",
      "3.  **Prompt:** `anime background, tranquil forest clearing, dappled sunlight, ancient trees, moss-covered stones, shimmering stream, mystical atmosphere, high detail`\n",
      "\n",
      "4.  **Prompt:** `anime background, abandoned school hallway, dusty sunlight, peeling paint, overgrown vines, eerie silence, long shadows, slightly desaturated`\n",
      "\n",
      "**III. Adding Specific Elements & Themes:**\n",
      "\n",
      "5.  **Prompt:** `anime background, futuristic cityscape, flying vehicles, holographic billboards, sleek architecture, glowing lights, advanced technology, vibrant, panoramic view`\n",
      "\n",
      "6.  **Prompt:** `anime background, traditional Japanese garden, meticulously raked gravel, koi pond, stone lanterns, maple trees, peaceful atmosphere, autumn colors`\n",
      "\n",
      "7.  **Prompt:** `anime background, fantasy castle interior, grand hall, stained glass windows, ornate tapestries, royal banners, shimmering light, luxurious design`\n",
      "\n",
      "8.  **Prompt:** `anime background, underwater coral reef, vibrant marine life, colorful corals, sunbeams filtering through water, tropical fish, bubbles, gentle currents`\n",
      "\n",
      "**IV. Adjusting Style & Composition:**\n",
      "\n",
      "9.  **Prompt:** `anime background, wide shot of a desolate wasteland, rocky terrain, broken structures, overcast sky, muted colors, sense of isolation, post-apocalyptic`\n",
      "\n",
      "10. **Prompt:** `anime background, close-up of a cluttered workshop, tools scattered around, half-finished inventions, intricate details, warm lighting, cozy atmosphere`\n",
      "\n",
      "11. **Prompt:** `anime background, panoramic view of a floating island in the sky, waterfalls cascading down, lush vegetation, mystical creatures, ethereal glow, detailed clouds`\n",
      "\n",
      "12. **Prompt:** `anime background, anime style, side view of a cozy coffee shop, window seat with a view of a rainy street, warm interior lighting, bookshelves, gentle ambiance, steaming coffee, focus on foreground`\n",
      "\n",
      "**V. Combining Elements & Refining:**\n",
      "\n",
      "13. **Prompt:** `anime background, snow-covered mountain peak, ancient temple ruins, blizzard conditions, swirling snow, limited visibility, sense of adventure, dramatic lighting`\n",
      "\n",
      "14. **Prompt:** `anime background, steampunk airship dock, intricate machinery, gears and pipes, dirigibles tethered, bustling activity, industrial atmosphere, cloudy sky`\n",
      "\n",
      "15. **Prompt:** `anime background, cyberpunk alleyway, graffiti art, flickering neon lights, discarded trash, rain puddles, urban decay, gritty atmosphere, contrasting colors`\n",
      "\n",
      "**Tips for using these prompts:**\n",
      "\n",
      "*   **Experiment!**  Don't be afraid to modify these prompts. Add, remove, or change words to get the exact result you're looking for.\n",
      "*   **Resolution:** Consider using a higher resolution to get more detailed backgrounds.\n",
      "*   **Negative Prompts:**  Use negative prompts to exclude unwanted elements (e.g., `(worst quality, low quality:1.4), text, signature, watermark`).\n",
      "*   **Seed:** Use a consistent seed for variations on a similar theme.\n",
      "*   **Refinement:** Use inpainting or post-processing tools to further refine the generated backgrounds.\n",
      "*   **Aspect Ratio:** Specify the aspect ratio you need for your project (e.g., `16:9`, `9:16`).  For example: `anime background, peaceful rural village, sunlit afternoon, rolling hills, thatched-roof houses, clear sky, distant mountains, vibrant colors, 16:9`\n",
      "*   **Anime Style Keywords:** Adding keywords like \"Makoto Shinkai style\" or \"Studio Ghibli style\" can influence the overall aesthetic.  Be specific to your desired anime art style.\n",
      "*   **Character Placement:** While these are primarily background prompts, you can subtly suggest character placement with phrases like \"room for character on the left\" or \"open space in the center\".\n",
      "*   **Camera Angle:** Specify the camera angle:  `high-angle shot`, `low-angle shot`, `bird's eye view`, `worm's eye view`.\n",
      "*   **Keywords to prevent undesirable results** include words like `people`, `person`, `character`, `human`, etc. Use in negative prompts.\n",
      "*   **Layering:** Consider using multiple passes in Stable Diffusion, starting with a broad prompt and then refining specific areas with inpainting and more detailed prompts.\n",
      "\n",
      "This sequence provides a good starting point. The key is to iterate, experiment, and find the prompts that work best for your particular needs. Good luck!\n",
      "\n"
     ]
    }
   ],
   "source": [
    "import google.generativeai as genai\n",
    "\n",
    "client = genai.configure(api_key=\"\")\n",
    "\n",
    "model = genai.GenerativeModel('models/gemini-2.0-flash') # atau 'gemini-pro-vision' untuk gambar\n",
    "response = model.generate_content(\"\")\n",
    "\n",
    "print(response.text)\n"
   ]
  }
 ],
 "metadata": {
  "kernelspec": {
   "display_name": ".venv (3.13.2)",
   "language": "python",
   "name": "python3"
  },
  "language_info": {
   "codemirror_mode": {
    "name": "ipython",
    "version": 3
   },
   "file_extension": ".py",
   "mimetype": "text/x-python",
   "name": "python",
   "nbconvert_exporter": "python",
   "pygments_lexer": "ipython3",
   "version": "3.13.2"
  }
 },
 "nbformat": 4,
 "nbformat_minor": 2
}
